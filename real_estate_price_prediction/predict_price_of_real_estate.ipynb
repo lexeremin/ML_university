{
  "nbformat": 4,
  "nbformat_minor": 0,
  "metadata": {
    "colab": {
      "name": "lab34_Eremin_Alexander.ipynb",
      "provenance": [],
      "collapsed_sections": []
    },
    "kernelspec": {
      "name": "python3",
      "display_name": "Python 3"
    }
  },
  "cells": [
    {
      "cell_type": "code",
      "metadata": {
        "id": "uRCaliYIG53b"
      },
      "source": [
        "#imports\n",
        "import numpy as np \n",
        "import pandas as pd \n",
        "import matplotlib.pyplot as plt\n",
        "import seaborn as sns\n",
        "import os\n",
        "%matplotlib inline\n",
        "import plotly.offline as pyo\n",
        "import plotly.graph_objs as go"
      ],
      "execution_count": null,
      "outputs": []
    },
    {
      "cell_type": "code",
      "metadata": {
        "id": "8UmXgRsfmezg",
        "colab": {
          "base_uri": "https://localhost:8080/"
        },
        "outputId": "b0ae2056-7d47-4606-9ef5-9a4ffbcbcfa8"
      },
      "source": [
        "from google.colab import drive\n",
        "drive.mount('/content/drive')"
      ],
      "execution_count": null,
      "outputs": [
        {
          "output_type": "stream",
          "text": [
            "Mounted at /content/drive\n"
          ],
          "name": "stdout"
        }
      ]
    },
    {
      "cell_type": "markdown",
      "metadata": {
        "id": "lxOo191dGwmy"
      },
      "source": [
        "# 0. Загрузка дата сета"
      ]
    },
    {
      "cell_type": "code",
      "metadata": {
        "id": "wF8zLGqzF-wZ",
        "colab": {
          "base_uri": "https://localhost:8080/"
        },
        "outputId": "558ab5a2-1e62-4e24-f473-bfc924f7e064"
      },
      "source": [
        "#data-loading function\n",
        "def load_data(path_to_data):\n",
        "  df = pd.read_csv(path_to_data, delimiter = ',', names=['Price', 'Volume', 'Floor/MaxFloor', 'District', 'Rooms', 'URL', 'Street', 'Time'])\n",
        "  return df\n",
        "\n",
        "path_to_data = \"/content/drive/My Drive/ML/prepared_data.csv\"\n",
        "dataset = load_data(path_to_data)\n",
        "#test output\n",
        "print(dataset.head())"
      ],
      "execution_count": null,
      "outputs": [
        {
          "output_type": "stream",
          "text": [
            "     Price  Volume  ...          Street  Time\n",
            "0  8004700   38.30  ...  УлицаГорчакова   5.0\n",
            "1  7795333   37.80  ...        Ольховая   5.0\n",
            "2  6877690   39.10  ...      ФилатовЛуг   5.0\n",
            "3  6359004   36.53  ...      Силикатная   6.0\n",
            "4  9200000   46.10  ...      Коммунарка  15.0\n",
            "\n",
            "[5 rows x 8 columns]\n"
          ],
          "name": "stdout"
        }
      ]
    },
    {
      "cell_type": "markdown",
      "metadata": {
        "id": "j3baKXGWGiTi"
      },
      "source": [
        "# 1. Разведочный аназил данных(EDA)"
      ]
    },
    {
      "cell_type": "markdown",
      "metadata": {
        "id": "RTkzM9_YI18h"
      },
      "source": [
        "Ниже представлена диаграмма, на которой представленны данные о числе представителей различных полов"
      ]
    },
    {
      "cell_type": "code",
      "metadata": {
        "id": "B9l_GzjXIxW0",
        "colab": {
          "base_uri": "https://localhost:8080/",
          "height": 730
        },
        "outputId": "8f1a9e21-73b5-4672-e961-ce9f7c69eabc"
      },
      "source": [
        "# Statistic data \n",
        "def plotPerColumnDistribution(df, nGraphShown, nGraphPerRow):\n",
        "    nunique = df.nunique()\n",
        "    df = df[[col for col in df if nunique[col] > 1 and nunique[col] < 50]] \n",
        "    nRow, nCol = df.shape\n",
        "    columnNames = list(df)\n",
        "    nGraphRow = (nCol + nGraphPerRow - 1) / nGraphPerRow\n",
        "    plt.figure(num = None, figsize = (6 * nGraphPerRow, 8 * nGraphRow), dpi = 80, facecolor = 'w', edgecolor = 'k')\n",
        "    for i in range(min(nCol, nGraphShown)):\n",
        "        plt.subplot(nGraphRow, nGraphPerRow, i + 1)\n",
        "        columnDf = df.iloc[:, i]\n",
        "        if (not np.issubdtype(type(columnDf.iloc[0]), np.number)):\n",
        "            valueCounts = columnDf.value_counts()\n",
        "            valueCounts.plot.bar()\n",
        "        else:\n",
        "            columnDf.hist()\n",
        "        plt.xticks(rotation = 90)\n",
        "    plt.tight_layout(pad = 1.0, w_pad = 1.0, h_pad = 1.0)\n",
        "    plt.show()\n",
        "\n",
        "plotPerColumnDistribution(dataset, dataset.shape[0], dataset.shape[1])    "
      ],
      "execution_count": null,
      "outputs": [
        {
          "output_type": "display_data",
          "data": {
            "image/png": "[encoded data removed]",
            "text/plain": [
              "<Figure size 3840x720 with 2 Axes>"
            ]
          },
          "metadata": {
            "tags": []
          }
        }
      ]
    },
    {
      "cell_type": "markdown",
      "metadata": {
        "id": "ORVjSb54Y1Nu"
      },
      "source": [
        "Как можно заметить больше всего объявлений в ЗАО и САО. Также преобладают объявления 1-комн. и 2-комн. квартир. Под 0 значением определены студии"
      ]
    },
    {
      "cell_type": "markdown",
      "metadata": {
        "id": "9wm3t2tALI20"
      },
      "source": [
        "Приведем общее описание датасета:"
      ]
    },
    {
      "cell_type": "code",
      "metadata": {
        "id": "TBINil5hLQA2",
        "colab": {
          "base_uri": "https://localhost:8080/",
          "height": 297
        },
        "outputId": "af2633f6-5d1f-419e-c20b-16743b601d9e"
      },
      "source": [
        "dataset.describe()"
      ],
      "execution_count": null,
      "outputs": [
        {
          "output_type": "execute_result",
          "data": {
            "text/html": [
              "<div>\n",
              "<style scoped>\n",
              "    .dataframe tbody tr th:only-of-type {\n",
              "        vertical-align: middle;\n",
              "    }\n",
              "\n",
              "    .dataframe tbody tr th {\n",
              "        vertical-align: top;\n",
              "    }\n",
              "\n",
              "    .dataframe thead th {\n",
              "        text-align: right;\n",
              "    }\n",
              "</style>\n",
              "<table border=\"1\" class=\"dataframe\">\n",
              "  <thead>\n",
              "    <tr style=\"text-align: right;\">\n",
              "      <th></th>\n",
              "      <th>Price</th>\n",
              "      <th>Volume</th>\n",
              "      <th>Rooms</th>\n",
              "      <th>Time</th>\n",
              "    </tr>\n",
              "  </thead>\n",
              "  <tbody>\n",
              "    <tr>\n",
              "      <th>count</th>\n",
              "      <td>5.241400e+04</td>\n",
              "      <td>52414.000000</td>\n",
              "      <td>52414.000000</td>\n",
              "      <td>52262.000000</td>\n",
              "    </tr>\n",
              "    <tr>\n",
              "      <th>mean</th>\n",
              "      <td>3.104572e+07</td>\n",
              "      <td>77.617856</td>\n",
              "      <td>2.264433</td>\n",
              "      <td>9.191171</td>\n",
              "    </tr>\n",
              "    <tr>\n",
              "      <th>std</th>\n",
              "      <td>6.337786e+07</td>\n",
              "      <td>61.454380</td>\n",
              "      <td>1.262225</td>\n",
              "      <td>5.390886</td>\n",
              "    </tr>\n",
              "    <tr>\n",
              "      <th>min</th>\n",
              "      <td>1.100000e+06</td>\n",
              "      <td>10.000000</td>\n",
              "      <td>0.000000</td>\n",
              "      <td>1.000000</td>\n",
              "    </tr>\n",
              "    <tr>\n",
              "      <th>25%</th>\n",
              "      <td>9.336286e+06</td>\n",
              "      <td>41.005000</td>\n",
              "      <td>1.000000</td>\n",
              "      <td>5.000000</td>\n",
              "    </tr>\n",
              "    <tr>\n",
              "      <th>50%</th>\n",
              "      <td>1.361075e+07</td>\n",
              "      <td>58.700000</td>\n",
              "      <td>2.000000</td>\n",
              "      <td>8.000000</td>\n",
              "    </tr>\n",
              "    <tr>\n",
              "      <th>75%</th>\n",
              "      <td>2.514493e+07</td>\n",
              "      <td>87.040000</td>\n",
              "      <td>3.000000</td>\n",
              "      <td>12.000000</td>\n",
              "    </tr>\n",
              "    <tr>\n",
              "      <th>max</th>\n",
              "      <td>2.688196e+09</td>\n",
              "      <td>1040.000000</td>\n",
              "      <td>6.000000</td>\n",
              "      <td>87.000000</td>\n",
              "    </tr>\n",
              "  </tbody>\n",
              "</table>\n",
              "</div>"
            ],
            "text/plain": [
              "              Price        Volume         Rooms          Time\n",
              "count  5.241400e+04  52414.000000  52414.000000  52262.000000\n",
              "mean   3.104572e+07     77.617856      2.264433      9.191171\n",
              "std    6.337786e+07     61.454380      1.262225      5.390886\n",
              "min    1.100000e+06     10.000000      0.000000      1.000000\n",
              "25%    9.336286e+06     41.005000      1.000000      5.000000\n",
              "50%    1.361075e+07     58.700000      2.000000      8.000000\n",
              "75%    2.514493e+07     87.040000      3.000000     12.000000\n",
              "max    2.688196e+09   1040.000000      6.000000     87.000000"
            ]
          },
          "metadata": {
            "tags": []
          },
          "execution_count": 25
        }
      ]
    },
    {
      "cell_type": "markdown",
      "metadata": {
        "id": "HOdJD9HRVnOE"
      },
      "source": [
        "Как можно заметить Время до ближайшего транспорта указано не везде, поэтому далее отпросим такие объявления"
      ]
    },
    {
      "cell_type": "code",
      "metadata": {
        "id": "gn48Qj1yV9Rw",
        "colab": {
          "base_uri": "https://localhost:8080/"
        },
        "outputId": "6aacc3fa-b474-45ba-e799-56d78ead51e4"
      },
      "source": [
        "#delete duplicates from dataset\n",
        "dataset = dataset.drop_duplicates()\n",
        "dataset.shape\n",
        "# delete row with no data in its values\n",
        "dataset = dataset.dropna()\n",
        "dataset.count()"
      ],
      "execution_count": null,
      "outputs": [
        {
          "output_type": "execute_result",
          "data": {
            "text/plain": [
              "Price             52262\n",
              "Volume            52262\n",
              "Floor/MaxFloor    52262\n",
              "District          52262\n",
              "Rooms             52262\n",
              "URL               52262\n",
              "Street            52262\n",
              "Time              52262\n",
              "dtype: int64"
            ]
          },
          "metadata": {
            "tags": []
          },
          "execution_count": 26
        }
      ]
    },
    {
      "cell_type": "markdown",
      "metadata": {
        "id": "57sqkZjaL9r9"
      },
      "source": [
        "# 2. Генерация признаков на тестовых данных"
      ]
    },
    {
      "cell_type": "markdown",
      "metadata": {
        "id": "CaUeOivXOkvG"
      },
      "source": [
        "Генерация признаков"
      ]
    },
    {
      "cell_type": "code",
      "metadata": {
        "id": "cVmr_VaaXeQT",
        "colab": {
          "base_uri": "https://localhost:8080/"
        },
        "outputId": "9db5dc4a-5159-4fe8-a401-d3841b92f5eb"
      },
      "source": [
        "def set_features(data):\n",
        "  vol = data['Volume'].to_numpy()\n",
        "  dist = pd.factorize(data['District'])[0]\n",
        "  floor = data['Floor'].to_numpy()\n",
        "  maxFloor = data['MaxFloor'].to_numpy()\n",
        "  street = pd.factorize(data['Street'])[0]\n",
        "  time = data['Time'].to_numpy()\n",
        "  feature_set = np.stack((vol, dist, floor, maxFloor, street, time), axis=1)\n",
        "  return feature_set\n",
        "\n",
        "dataset[['Floor', 'MaxFloor']] = dataset['Floor/MaxFloor'].str.split('/', 1, expand=True)\n",
        "dataset\n",
        "X = set_features(dataset)\n",
        "X"
      ],
      "execution_count": null,
      "outputs": [
        {
          "output_type": "execute_result",
          "data": {
            "text/plain": [
              "array([[38.3, 0, '3', '9', 0, 5.0],\n",
              "       [37.8, 0, '7', '16', 1, 5.0],\n",
              "       [39.1, 0, '1', '9', 2, 5.0],\n",
              "       ...,\n",
              "       [39.8, 5, '8', '12', 129, 5.0],\n",
              "       [47.0, 5, '12', '14', 142, 8.0],\n",
              "       [37.2, 5, '2', '9', 141, 4.0]], dtype=object)"
            ]
          },
          "metadata": {
            "tags": []
          },
          "execution_count": 48
        }
      ]
    },
    {
      "cell_type": "markdown",
      "metadata": {
        "id": "V36P6pjdSp47"
      },
      "source": [
        " Генерация меток"
      ]
    },
    {
      "cell_type": "code",
      "metadata": {
        "id": "Cvu-lALRSqhV",
        "colab": {
          "base_uri": "https://localhost:8080/"
        },
        "outputId": "f8d8b1b0-7b2a-40e5-c6b1-eb36d7971165"
      },
      "source": [
        "Y = dataset['Price'].to_numpy()\n",
        "Y"
      ],
      "execution_count": null,
      "outputs": [
        {
          "output_type": "execute_result",
          "data": {
            "text/plain": [
              "array([8004700, 7795333, 6877690, ..., 9300000, 9300000, 9250000])"
            ]
          },
          "metadata": {
            "tags": []
          },
          "execution_count": 46
        }
      ]
    },
    {
      "cell_type": "markdown",
      "metadata": {
        "id": "CzyF9TxGOl4P"
      },
      "source": [
        "# 3. Построение моделей регрессии"
      ]
    },
    {
      "cell_type": "code",
      "metadata": {
        "id": "IYan48k1Xenk"
      },
      "source": [
        "from sklearn.linear_model import LinearRegression, LogisticRegression\n",
        "from sklearn.model_selection import train_test_split\n",
        "from sklearn.metrics import accuracy_score\n",
        "from sklearn.metrics import mean_absolute_error\n",
        "from sklearn.metrics import mean_squared_error\n",
        "from sklearn.metrics import r2_score\n",
        "from sklearn import tree\n",
        "from sklearn.ensemble import RandomForestClassifier\n",
        "import xgboost as xgb\n",
        "import lightgbm as lgb\n",
        "import math\n",
        "train_splitting = 0.1 # cuz no dev set 98% train and 2% test\n",
        "\n",
        "X_train, X_test, Y_train, Y_test = train_test_split(X, Y, test_size=train_splitting, random_state=1, shuffle=False)"
      ],
      "execution_count": null,
      "outputs": []
    },
    {
      "cell_type": "markdown",
      "metadata": {
        "id": "ouX8nGFPOzGf"
      },
      "source": [
        "## 3.1 Linear regression"
      ]
    },
    {
      "cell_type": "code",
      "metadata": {
        "id": "Pi2r1eNNYecW"
      },
      "source": [
        "Lin_model = LinearRegression().fit(X_train, Y_train)"
      ],
      "execution_count": null,
      "outputs": []
    },
    {
      "cell_type": "code",
      "metadata": {
        "id": "rFgpA9pYZCyS"
      },
      "source": [
        "Y_pred = Lin_model.predict(X_test)"
      ],
      "execution_count": null,
      "outputs": []
    },
    {
      "cell_type": "code",
      "metadata": {
        "colab": {
          "base_uri": "https://localhost:8080/",
          "height": 722
        },
        "id": "6Vb4jc77veZk",
        "outputId": "b3f39447-0bd9-40d0-8c53-d5aac460ea8a"
      },
      "source": [
        "def check_error(Y_pred, Y_test):\n",
        "  sum = 0.0\n",
        "  max_deviation = 0\n",
        "  min_deviation = 10**10\n",
        "\n",
        "  for i, elem in enumerate(Y_test):\n",
        "    sum += math.fabs(Y_pred[i]-elem)\n",
        "    if math.fabs(Y_pred[i]-elem) > max_deviation:\n",
        "      max_deviation = math.fabs(Y_pred[i]-elem)\n",
        "    if math.fabs(Y_pred[i] - elem) < min_deviation:\n",
        "      min_deviation = math.fabs(Y_pred[i]-elem)\n",
        "\n",
        "  print(\"Max_deviation: \", max_deviation)\n",
        "  print(\"Min_deviation: \", min_deviation)\n",
        "  print(\"Arithmetic_mean: \", sum/len(Y_pred))\n",
        "  print(\"MAE: \", mean_absolute_error(Y_test, Y_pred))\n",
        "  print(\"RMSE: \", mean_squared_error(Y_test, Y_pred))\n",
        "  print(\"R^2: \", r2_score(Y_test, Y_pred))\n",
        "  plt.figure(figsize=(10, 10))\n",
        "  plt.scatter(Y_test, Y_pred)\n",
        "  plt.plot([0, max(Y_test)], [0, max(Y_pred)])\n",
        "  plt.xlabel('Actual', fontsize=14)\n",
        "  plt.ylabel('Prediction', fontsize=14)\n",
        "\n",
        "check_error(Y_pred, Y_test)"
      ],
      "execution_count": null,
      "outputs": [
        {
          "output_type": "stream",
          "text": [
            "Max_deviation:  117348923.49444176\n",
            "Min_deviation:  2955.85276061669\n",
            "Arithmetic_mean:  8767423.228780739\n",
            "MAE:  8767423.228780752\n",
            "RMSE:  132652533493972.11\n",
            "R^2:  -0.7494602189520467\n"
          ],
          "name": "stdout"
        },
        {
          "output_type": "display_data",
          "data": {
            "image/png": "[encoded data removed]",
            "text/plain": [
              "<Figure size 720x720 with 1 Axes>"
            ]
          },
          "metadata": {
            "tags": [],
            "needs_background": "light"
          }
        }
      ]
    },
    {
      "cell_type": "markdown",
      "metadata": {
        "id": "5iUCkuT3a6j3"
      },
      "source": [
        "## 3.2 XGBoost"
      ]
    },
    {
      "cell_type": "code",
      "metadata": {
        "id": "_L_BZXR3bCse"
      },
      "source": [
        "train = xgb.DMatrix(X_train, Y_train)\n",
        "test = xgb.DMatrix(X_test, Y_test)\n",
        "epos = 10"
      ],
      "execution_count": null,
      "outputs": []
    },
    {
      "cell_type": "code",
      "metadata": {
        "id": "AtzN5ikWbWeP"
      },
      "source": [
        "param = {'max_depth': 10, 'eta': 0.5, 'nthread': 6, 'eval_metric': 'rmse', 'objective': 'reg:squarederror'}\n",
        "evallist = [(test, 'eval'), (train, 'train')]"
      ],
      "execution_count": null,
      "outputs": []
    },
    {
      "cell_type": "code",
      "metadata": {
        "id": "ZERKEvspbfvQ",
        "colab": {
          "base_uri": "https://localhost:8080/"
        },
        "outputId": "77369fc8-47e1-4da5-e4b1-ca595094cc68"
      },
      "source": [
        "XGBoost_model = xgb.train(param, train, epos, evallist)"
      ],
      "execution_count": null,
      "outputs": [
        {
          "output_type": "stream",
          "text": [
            "[0]\teval-rmse:9.17368e+06\ttrain-rmse:4.39889e+07\n",
            "[1]\teval-rmse:6.1761e+06\ttrain-rmse:2.87404e+07\n",
            "[2]\teval-rmse:4.88716e+06\ttrain-rmse:2.15163e+07\n",
            "[3]\teval-rmse:4.36352e+06\ttrain-rmse:1.80016e+07\n",
            "[4]\teval-rmse:3.9134e+06\ttrain-rmse:1.56566e+07\n",
            "[5]\teval-rmse:3.69009e+06\ttrain-rmse:1.44156e+07\n",
            "[6]\teval-rmse:3.64788e+06\ttrain-rmse:1.36941e+07\n",
            "[7]\teval-rmse:3.59465e+06\ttrain-rmse:1.32181e+07\n",
            "[8]\teval-rmse:3.59297e+06\ttrain-rmse:1.25226e+07\n",
            "[9]\teval-rmse:3.54165e+06\ttrain-rmse:1.22351e+07\n"
          ],
          "name": "stdout"
        }
      ]
    },
    {
      "cell_type": "code",
      "metadata": {
        "id": "v5p1AECXbvN_",
        "colab": {
          "base_uri": "https://localhost:8080/"
        },
        "outputId": "17b5bae1-1421-4518-f4da-e2570573cbb7"
      },
      "source": [
        "XGBoost_model.predict(test)"
      ],
      "execution_count": null,
      "outputs": [
        {
          "output_type": "execute_result",
          "data": {
            "text/plain": [
              "array([0.00248589, 0.00241918, 0.00246895, ..., 0.00241918, 0.9985152 ,\n",
              "       0.9988558 ], dtype=float32)"
            ]
          },
          "metadata": {
            "tags": []
          },
          "execution_count": 44
        }
      ]
    },
    {
      "cell_type": "code",
      "metadata": {
        "id": "-tYv3kmLcqnS"
      },
      "source": [
        "Y_pred = [int(round(x)) for x in XGBoost_model.predict(test)]"
      ],
      "execution_count": null,
      "outputs": []
    },
    {
      "cell_type": "code",
      "metadata": {
        "id": "T9gteEhLcyRE",
        "colab": {
          "base_uri": "https://localhost:8080/",
          "height": 722
        },
        "outputId": "4d8a65ae-5fc1-4ccd-9f69-25b13c4ae888"
      },
      "source": [
        "check_error(Y_pred, Y_test)"
      ],
      "execution_count": null,
      "outputs": [
        {
          "output_type": "stream",
          "text": [
            "Max_deviation:  49116009.0\n",
            "Min_deviation:  418.0\n",
            "Arithmetic_mean:  2052136.9416491296\n",
            "MAE:  2052136.9416491296\n",
            "RMSE:  12543255365290.113\n",
            "R^2:  0.8345758976497117\n"
          ],
          "name": "stdout"
        },
        {
          "output_type": "display_data",
          "data": {
            "image/png": "[encoded data removed]",
            "text/plain": [
              "<Figure size 720x720 with 1 Axes>"
            ]
          },
          "metadata": {
            "tags": [],
            "needs_background": "light"
          }
        }
      ]
    },
    {
      "cell_type": "markdown",
      "metadata": {
        "id": "LvQ4MhyYc8TT"
      },
      "source": [
        "## 3.3 LightGBM"
      ]
    },
    {
      "cell_type": "code",
      "metadata": {
        "id": "LGzmZYR_c5P9"
      },
      "source": [
        "LightGBM_train = lgb.Dataset(X_train, label=Y_train)\n",
        "LightGBM_test = lgb.Dataset(X_test, label=Y_test)"
      ],
      "execution_count": null,
      "outputs": []
    },
    {
      "cell_type": "code",
      "metadata": {
        "id": "9I8xpW5AdIBO"
      },
      "source": [
        "param = {'num_leaves': 50, 'metric': 'rmse', 'learning_rate': 0.5, 'boosting_type': 'gbdt', 'max_depth': 10}"
      ],
      "execution_count": null,
      "outputs": []
    },
    {
      "cell_type": "code",
      "metadata": {
        "id": "hpw9_IM0dc0Z"
      },
      "source": [
        "LightGBM_model = lgb.train(param, LightGBM_train, epos)"
      ],
      "execution_count": null,
      "outputs": []
    },
    {
      "cell_type": "code",
      "metadata": {
        "id": "8Ka5Ohahdivx",
        "colab": {
          "base_uri": "https://localhost:8080/"
        },
        "outputId": "e20f3bf2-3883-4615-dc3e-cbd5f512cada"
      },
      "source": [
        "Y_pred = LightGBM_model.predict(X_test)"
      ],
      "execution_count": null,
      "outputs": [
        {
          "output_type": "execute_result",
          "data": {
            "text/plain": [
              "array([ 9536608.88075958, 10018906.98219196, 15925913.38148217, ...,\n",
              "       13274574.53078984, 15924102.82800278, 11192329.6775042 ])"
            ]
          },
          "metadata": {
            "tags": []
          },
          "execution_count": 97
        }
      ]
    },
    {
      "cell_type": "code",
      "metadata": {
        "id": "DA8qfKA5dl8y",
        "colab": {
          "base_uri": "https://localhost:8080/",
          "height": 722
        },
        "outputId": "ec284678-21c1-44b7-9704-0b6d5dc477cb"
      },
      "source": [
        "check_error(Y_test, Y_pred)"
      ],
      "execution_count": null,
      "outputs": [
        {
          "output_type": "stream",
          "text": [
            "Max_deviation:  117348923.49444176\n",
            "Min_deviation:  2955.85276061669\n",
            "Arithmetic_mean:  8767423.228780739\n",
            "MAE:  8767423.228780752\n",
            "RMSE:  132652533493972.11\n",
            "R^2:  0.1538187043417718\n"
          ],
          "name": "stdout"
        },
        {
          "output_type": "display_data",
          "data": {
            "image/png": "[encoded data removed]",
            "text/plain": [
              "<Figure size 720x720 with 1 Axes>"
            ]
          },
          "metadata": {
            "tags": [],
            "needs_background": "light"
          }
        }
      ]
    },
    {
      "cell_type": "markdown",
      "metadata": {
        "id": "zksa85lZxfN2"
      },
      "source": [
        "## 3.4 CatBoost"
      ]
    },
    {
      "cell_type": "code",
      "metadata": {
        "colab": {
          "base_uri": "https://localhost:8080/"
        },
        "id": "8GpfYGUCxcmQ",
        "outputId": "b3e78470-7a9d-498c-a692-5d4be3d97ca3"
      },
      "source": [
        "!pip install catboost"
      ],
      "execution_count": null,
      "outputs": [
        {
          "output_type": "stream",
          "text": [
            "Collecting catboost\n",
            "\u001b[?25l  Downloading https://files.pythonhosted.org/packages/20/37/bc4e0ddc30c07a96482abf1de7ed1ca54e59bba2026a33bca6d2ef286e5b/catboost-0.24.4-cp36-none-manylinux1_x86_64.whl (65.7MB)\n",
            "\u001b[K     |████████████████████████████████| 65.8MB 62kB/s \n",
            "\u001b[?25hRequirement already satisfied: plotly in /usr/local/lib/python3.6/dist-packages (from catboost) (4.4.1)\n",
            "Requirement already satisfied: numpy>=1.16.0 in /usr/local/lib/python3.6/dist-packages (from catboost) (1.19.5)\n",
            "Requirement already satisfied: scipy in /usr/local/lib/python3.6/dist-packages (from catboost) (1.4.1)\n",
            "Requirement already satisfied: pandas>=0.24.0 in /usr/local/lib/python3.6/dist-packages (from catboost) (1.1.5)\n",
            "Requirement already satisfied: matplotlib in /usr/local/lib/python3.6/dist-packages (from catboost) (3.2.2)\n",
            "Requirement already satisfied: six in /usr/local/lib/python3.6/dist-packages (from catboost) (1.15.0)\n",
            "Requirement already satisfied: graphviz in /usr/local/lib/python3.6/dist-packages (from catboost) (0.10.1)\n",
            "Requirement already satisfied: retrying>=1.3.3 in /usr/local/lib/python3.6/dist-packages (from plotly->catboost) (1.3.3)\n",
            "Requirement already satisfied: python-dateutil>=2.7.3 in /usr/local/lib/python3.6/dist-packages (from pandas>=0.24.0->catboost) (2.8.1)\n",
            "Requirement already satisfied: pytz>=2017.2 in /usr/local/lib/python3.6/dist-packages (from pandas>=0.24.0->catboost) (2018.9)\n",
            "Requirement already satisfied: pyparsing!=2.0.4,!=2.1.2,!=2.1.6,>=2.0.1 in /usr/local/lib/python3.6/dist-packages (from matplotlib->catboost) (2.4.7)\n",
            "Requirement already satisfied: cycler>=0.10 in /usr/local/lib/python3.6/dist-packages (from matplotlib->catboost) (0.10.0)\n",
            "Requirement already satisfied: kiwisolver>=1.0.1 in /usr/local/lib/python3.6/dist-packages (from matplotlib->catboost) (1.3.1)\n",
            "Installing collected packages: catboost\n",
            "Successfully installed catboost-0.24.4\n"
          ],
          "name": "stdout"
        }
      ]
    },
    {
      "cell_type": "code",
      "metadata": {
        "id": "xCpsJ3hP14QE"
      },
      "source": [
        "from catboost import CatBoostRegressor"
      ],
      "execution_count": null,
      "outputs": []
    },
    {
      "cell_type": "code",
      "metadata": {
        "id": "nw6Gtfc-1-7u"
      },
      "source": [
        "cat = CatBoostRegressor(iterations=100, \n",
        "                          depth=16, \n",
        "                          learning_rate=0.5, \n",
        "                          loss_function='RMSE')"
      ],
      "execution_count": null,
      "outputs": []
    },
    {
      "cell_type": "code",
      "metadata": {
        "colab": {
          "base_uri": "https://localhost:8080/"
        },
        "id": "HKbFVw6y2Dsk",
        "outputId": "8855dc93-be58-479b-b5aa-1a81c5e35932"
      },
      "source": [
        "cat.fit(X_train,Y_train)"
      ],
      "execution_count": null,
      "outputs": [
        {
          "output_type": "stream",
          "text": [
            "0:\tlearn: 45940382.1287095\ttotal: 1.64s\tremaining: 2m 42s\n",
            "1:\tlearn: 36218619.4215582\ttotal: 2.45s\tremaining: 1m 59s\n",
            "2:\tlearn: 30606296.8254295\ttotal: 3.22s\tremaining: 1m 44s\n",
            "3:\tlearn: 27074834.9912653\ttotal: 3.99s\tremaining: 1m 35s\n",
            "4:\tlearn: 24669271.5742589\ttotal: 4.79s\tremaining: 1m 30s\n",
            "5:\tlearn: 23027930.5984823\ttotal: 5.56s\tremaining: 1m 27s\n",
            "6:\tlearn: 21800887.3983549\ttotal: 6.4s\tremaining: 1m 25s\n",
            "7:\tlearn: 20566535.4055184\ttotal: 7.18s\tremaining: 1m 22s\n",
            "8:\tlearn: 19856826.4216361\ttotal: 7.95s\tremaining: 1m 20s\n",
            "9:\tlearn: 19405729.0745827\ttotal: 8.74s\tremaining: 1m 18s\n",
            "10:\tlearn: 18875480.6045678\ttotal: 9.51s\tremaining: 1m 16s\n",
            "11:\tlearn: 18542099.7691809\ttotal: 10.3s\tremaining: 1m 15s\n",
            "12:\tlearn: 18188145.2914758\ttotal: 11.1s\tremaining: 1m 14s\n",
            "13:\tlearn: 17941300.8752638\ttotal: 11.9s\tremaining: 1m 12s\n",
            "14:\tlearn: 17559826.9707324\ttotal: 12.7s\tremaining: 1m 11s\n",
            "15:\tlearn: 17032025.4857813\ttotal: 13.4s\tremaining: 1m 10s\n",
            "16:\tlearn: 16874959.7697549\ttotal: 14.3s\tremaining: 1m 9s\n",
            "17:\tlearn: 16606702.8140433\ttotal: 15.1s\tremaining: 1m 8s\n",
            "18:\tlearn: 16376140.4232825\ttotal: 15.9s\tremaining: 1m 7s\n",
            "19:\tlearn: 16242249.7738146\ttotal: 16.7s\tremaining: 1m 6s\n",
            "20:\tlearn: 16015761.8068183\ttotal: 17.5s\tremaining: 1m 5s\n",
            "21:\tlearn: 15722865.8530898\ttotal: 18.2s\tremaining: 1m 4s\n",
            "22:\tlearn: 15712856.0981933\ttotal: 18.3s\tremaining: 1m 1s\n",
            "23:\tlearn: 15439458.2117778\ttotal: 19.1s\tremaining: 1m\n",
            "24:\tlearn: 15045757.4983037\ttotal: 19.8s\tremaining: 59.5s\n",
            "25:\tlearn: 14789524.7910456\ttotal: 20.6s\tremaining: 58.6s\n",
            "26:\tlearn: 14660897.6452347\ttotal: 21.4s\tremaining: 57.8s\n",
            "27:\tlearn: 14325865.4447186\ttotal: 22.1s\tremaining: 56.9s\n",
            "28:\tlearn: 14182075.9121412\ttotal: 22.9s\tremaining: 56.1s\n",
            "29:\tlearn: 13949355.3316352\ttotal: 23.7s\tremaining: 55.3s\n",
            "30:\tlearn: 13740207.6226764\ttotal: 24.4s\tremaining: 54.4s\n",
            "31:\tlearn: 13593981.3537415\ttotal: 25.3s\tremaining: 53.7s\n",
            "32:\tlearn: 13281395.6349148\ttotal: 26s\tremaining: 52.9s\n",
            "33:\tlearn: 13116229.7606705\ttotal: 26.9s\tremaining: 52.1s\n",
            "34:\tlearn: 12908869.4175886\ttotal: 27.7s\tremaining: 51.4s\n",
            "35:\tlearn: 12743185.7038595\ttotal: 28.5s\tremaining: 50.7s\n",
            "36:\tlearn: 12673084.7192777\ttotal: 29.4s\tremaining: 50s\n",
            "37:\tlearn: 12490467.4821832\ttotal: 30.2s\tremaining: 49.3s\n",
            "38:\tlearn: 12409592.1224073\ttotal: 31s\tremaining: 48.5s\n",
            "39:\tlearn: 12365452.3645581\ttotal: 31.8s\tremaining: 47.8s\n",
            "40:\tlearn: 12285520.1624820\ttotal: 32.7s\tremaining: 47s\n",
            "41:\tlearn: 12041087.0108673\ttotal: 33.5s\tremaining: 46.3s\n",
            "42:\tlearn: 11924517.8655471\ttotal: 34.3s\tremaining: 45.5s\n",
            "43:\tlearn: 11751047.8163498\ttotal: 35.1s\tremaining: 44.7s\n",
            "44:\tlearn: 11487464.0051621\ttotal: 36s\tremaining: 43.9s\n",
            "45:\tlearn: 11351125.7683667\ttotal: 36.8s\tremaining: 43.2s\n",
            "46:\tlearn: 11273915.9357605\ttotal: 37.6s\tremaining: 42.4s\n",
            "47:\tlearn: 11215936.7500240\ttotal: 38.4s\tremaining: 41.6s\n",
            "48:\tlearn: 11017599.9531889\ttotal: 39.2s\tremaining: 40.8s\n",
            "49:\tlearn: 11014355.3159476\ttotal: 39.2s\tremaining: 39.2s\n",
            "50:\tlearn: 10955939.6677320\ttotal: 39.9s\tremaining: 38.4s\n",
            "51:\tlearn: 10889811.2047373\ttotal: 40.7s\tremaining: 37.6s\n",
            "52:\tlearn: 10790508.5337227\ttotal: 41.5s\tremaining: 36.8s\n",
            "53:\tlearn: 10588724.5575252\ttotal: 42.3s\tremaining: 36s\n",
            "54:\tlearn: 10420585.5547708\ttotal: 43s\tremaining: 35.2s\n",
            "55:\tlearn: 10356626.9389493\ttotal: 43.8s\tremaining: 34.5s\n",
            "56:\tlearn: 10259914.7407283\ttotal: 44.7s\tremaining: 33.7s\n",
            "57:\tlearn: 10185591.0525989\ttotal: 45.5s\tremaining: 32.9s\n",
            "58:\tlearn: 10122082.5242714\ttotal: 46.2s\tremaining: 32.1s\n",
            "59:\tlearn: 10103071.3239233\ttotal: 47s\tremaining: 31.3s\n",
            "60:\tlearn: 10046347.7729613\ttotal: 47.8s\tremaining: 30.5s\n",
            "61:\tlearn: 9923662.0305920\ttotal: 48.5s\tremaining: 29.8s\n",
            "62:\tlearn: 9796095.7492423\ttotal: 49.3s\tremaining: 29s\n",
            "63:\tlearn: 9675609.4008242\ttotal: 50.1s\tremaining: 28.2s\n",
            "64:\tlearn: 9630255.0492646\ttotal: 50.9s\tremaining: 27.4s\n",
            "65:\tlearn: 9514336.8322596\ttotal: 51.6s\tremaining: 26.6s\n",
            "66:\tlearn: 9448102.4330822\ttotal: 52.4s\tremaining: 25.8s\n",
            "67:\tlearn: 9395119.8974625\ttotal: 53.2s\tremaining: 25s\n",
            "68:\tlearn: 9342261.1368254\ttotal: 54s\tremaining: 24.3s\n",
            "69:\tlearn: 9235702.0174441\ttotal: 54.8s\tremaining: 23.5s\n",
            "70:\tlearn: 9216132.4698683\ttotal: 55.5s\tremaining: 22.7s\n",
            "71:\tlearn: 9148324.1555581\ttotal: 56.3s\tremaining: 21.9s\n",
            "72:\tlearn: 9106669.2014216\ttotal: 57.1s\tremaining: 21.1s\n",
            "73:\tlearn: 9065338.8885594\ttotal: 57.9s\tremaining: 20.4s\n",
            "74:\tlearn: 9027685.5996473\ttotal: 58.7s\tremaining: 19.6s\n",
            "75:\tlearn: 8937170.1353960\ttotal: 59.5s\tremaining: 18.8s\n",
            "76:\tlearn: 8901908.1031381\ttotal: 1m\tremaining: 18s\n",
            "77:\tlearn: 8814954.6811985\ttotal: 1m 1s\tremaining: 17.2s\n",
            "78:\tlearn: 8739936.4508325\ttotal: 1m 1s\tremaining: 16.5s\n",
            "79:\tlearn: 8696718.8632599\ttotal: 1m 2s\tremaining: 15.7s\n",
            "80:\tlearn: 8636744.1283518\ttotal: 1m 3s\tremaining: 14.9s\n",
            "81:\tlearn: 8576262.7270560\ttotal: 1m 4s\tremaining: 14.1s\n",
            "82:\tlearn: 8527165.3994921\ttotal: 1m 4s\tremaining: 13.3s\n",
            "83:\tlearn: 8467241.1362615\ttotal: 1m 5s\tremaining: 12.5s\n",
            "84:\tlearn: 8424108.4398001\ttotal: 1m 6s\tremaining: 11.7s\n",
            "85:\tlearn: 8363617.5622710\ttotal: 1m 7s\tremaining: 11s\n",
            "86:\tlearn: 8313783.1254700\ttotal: 1m 8s\tremaining: 10.2s\n",
            "87:\tlearn: 8232055.6796679\ttotal: 1m 8s\tremaining: 9.38s\n",
            "88:\tlearn: 8210044.7920238\ttotal: 1m 9s\tremaining: 8.6s\n",
            "89:\tlearn: 8145279.0885266\ttotal: 1m 10s\tremaining: 7.82s\n",
            "90:\tlearn: 8096365.9227315\ttotal: 1m 11s\tremaining: 7.04s\n",
            "91:\tlearn: 8077841.7100111\ttotal: 1m 11s\tremaining: 6.25s\n",
            "92:\tlearn: 8000783.8380803\ttotal: 1m 12s\tremaining: 5.47s\n",
            "93:\tlearn: 7933693.5092152\ttotal: 1m 13s\tremaining: 4.7s\n",
            "94:\tlearn: 7893258.1624898\ttotal: 1m 14s\tremaining: 3.92s\n",
            "95:\tlearn: 7861434.9433091\ttotal: 1m 15s\tremaining: 3.14s\n",
            "96:\tlearn: 7823235.9906347\ttotal: 1m 16s\tremaining: 2.35s\n",
            "97:\tlearn: 7795493.6061811\ttotal: 1m 17s\tremaining: 1.57s\n",
            "98:\tlearn: 7752695.4825818\ttotal: 1m 17s\tremaining: 786ms\n",
            "99:\tlearn: 7685743.9238165\ttotal: 1m 18s\tremaining: 0us\n"
          ],
          "name": "stdout"
        },
        {
          "output_type": "execute_result",
          "data": {
            "text/plain": [
              "<catboost.core.CatBoostRegressor at 0x7fe07c8e3eb8>"
            ]
          },
          "metadata": {
            "tags": []
          },
          "execution_count": 119
        }
      ]
    },
    {
      "cell_type": "code",
      "metadata": {
        "id": "H6IZHEUo2HH2"
      },
      "source": [
        "Y_pred = cat.predict(X_test)"
      ],
      "execution_count": null,
      "outputs": []
    },
    {
      "cell_type": "code",
      "metadata": {
        "colab": {
          "base_uri": "https://localhost:8080/",
          "height": 722
        },
        "id": "3KP5DEjW2KQA",
        "outputId": "9ab2088a-ca08-4c0a-d542-3a06d7ffeb5d"
      },
      "source": [
        "check_error(Y_test, Y_pred)"
      ],
      "execution_count": null,
      "outputs": [
        {
          "output_type": "stream",
          "text": [
            "Max_deviation:  49272655.074370936\n",
            "Min_deviation:  268.75051023066044\n",
            "Arithmetic_mean:  1955758.158177394\n",
            "MAE:  1955758.1581773981\n",
            "RMSE:  10625800981829.64\n",
            "R^2:  0.8329703637648265\n"
          ],
          "name": "stdout"
        },
        {
          "output_type": "display_data",
          "data": {
            "image/png": "[encoded data removed]",
            "text/plain": [
              "<Figure size 720x720 with 1 Axes>"
            ]
          },
          "metadata": {
            "tags": [],
            "needs_background": "light"
          }
        }
      ]
    }
  ]
}