{
  "nbformat": 4,
  "nbformat_minor": 0,
  "metadata": {
    "colab": {
      "name": "lab78_Eremin_Alexander.ipynb",
      "provenance": [],
      "collapsed_sections": []
    },
    "kernelspec": {
      "name": "python3",
      "display_name": "Python 3"
    },
    "accelerator": "GPU"
  },
  "cells": [
    {
      "cell_type": "code",
      "metadata": {
        "id": "weP6bdHFPz5t"
      },
      "source": [
        "import  os\n",
        "import  numpy as np\n",
        "import  pandas  as pd\n",
        "%matplotlib inline\n",
        "import  matplotlib.pyplot as plt\n",
        "import gzip\n",
        "\n",
        "\n",
        "from keras.models import Sequential\n",
        "from keras.layers import Dense, Dropout, Activation, Flatten\n",
        "from keras.layers import Conv2D, MaxPooling2D\n",
        "from keras.utils import np_utils\n",
        "from keras.callbacks import EarlyStopping\n",
        "\n",
        "from sklearn.metrics import plot_confusion_matrix\n",
        "from sklearn.metrics import mean_absolute_error\n",
        "from sklearn.metrics import mean_squared_error\n",
        "from sklearn.metrics import r2_score\n",
        "from sklearn.metrics import plot_confusion_matrix\n",
        "import math"
      ],
      "execution_count": null,
      "outputs": []
    },
    {
      "cell_type": "code",
      "metadata": {
        "colab": {
          "base_uri": "https://localhost:8080/"
        },
        "id": "Tg7qJPhI6gz6",
        "outputId": "41a1059e-4234-40c7-89cf-e9610a30ecdb"
      },
      "source": [
        "from google.colab import drive\n",
        "drive.mount('/content/drive')"
      ],
      "execution_count": null,
      "outputs": [
        {
          "output_type": "stream",
          "text": [
            "Mounted at /content/drive\n"
          ],
          "name": "stdout"
        }
      ]
    },
    {
      "cell_type": "markdown",
      "metadata": {
        "id": "ZeBiR1XRP65R"
      },
      "source": [
        "# 0. Загрузка дата сета\n",
        "\n",
        "\n",
        "---\n",
        "\n",
        "\n"
      ]
    },
    {
      "cell_type": "code",
      "metadata": {
        "id": "5nB_qrUCGd5T"
      },
      "source": [
        "def load_mnist(path, kind='train'):\n",
        "    import os\n",
        "    import gzip\n",
        "    import numpy as np\n",
        "\n",
        "    labels_path = os.path.join(path,\n",
        "                               f'{kind}-labels-idx1-ubyte.gz')\n",
        "    images_path = os.path.join(path,\n",
        "                               f'{kind}-images-idx3-ubyte.gz')\n",
        "\n",
        "    with gzip.open(labels_path, 'rb') as lbpath:\n",
        "        labels = np.frombuffer(lbpath.read(), dtype=np.uint8,\n",
        "                               offset=8)\n",
        "\n",
        "    with gzip.open(images_path, 'rb') as imgpath:\n",
        "        images = np.frombuffer(imgpath.read(), dtype=np.uint8,\n",
        "                               offset=16).reshape(len(labels), 28, 28)\n",
        "    \n",
        "    return images, labels"
      ],
      "execution_count": null,
      "outputs": []
    },
    {
      "cell_type": "code",
      "metadata": {
        "id": "-ou2vm-xFPXV"
      },
      "source": [
        "test_img_path = \"/content/drive/My Drive/ML/lab7-8/t10k-images-idx3-ubyte.gz\"\n",
        "test_label_path = \"/content/drive/My Drive/ML/lab7-8/t10k-labels-idx1-ubyte.gz\"\n",
        "train_img_path =  \"/content/drive/My Drive/ML/lab7-8/train-images-idx3-ubyte.gz\"\n",
        "train_label_path = \"/content/drive/My Drive/ML/lab7-8/train-labels-idx1-ubyte.gz\"\n",
        "\n",
        "path = '/content/drive/My Drive/ML/lab7-8/'\n",
        "X_train, Y_train = load_mnist(path, kind='train')\n",
        "X_test, Y_test = load_mnist(path, kind='t10k')\n",
        "# X_test = readLabels(test_img_path)\n",
        "# Y_test = readLabels(test_label_path)\n",
        "# X_train = readLabels(train_img_path)\n",
        "# Y_train = readLabels(train_label_path)"
      ],
      "execution_count": null,
      "outputs": []
    },
    {
      "cell_type": "code",
      "metadata": {
        "colab": {
          "base_uri": "https://localhost:8080/"
        },
        "id": "RwmZQVHXFTy5",
        "outputId": "0f28c3d8-d220-4b32-9f8e-b244a76cf2f5"
      },
      "source": [
        "X_train.shape"
      ],
      "execution_count": null,
      "outputs": [
        {
          "output_type": "execute_result",
          "data": {
            "text/plain": [
              "(60000, 28, 28)"
            ]
          },
          "metadata": {
            "tags": []
          },
          "execution_count": 5
        }
      ]
    },
    {
      "cell_type": "code",
      "metadata": {
        "colab": {
          "base_uri": "https://localhost:8080/"
        },
        "id": "1aMQmC1nHc5x",
        "outputId": "80e4f15b-9592-41d0-d95d-5040010055b9"
      },
      "source": [
        "Y_train"
      ],
      "execution_count": null,
      "outputs": [
        {
          "output_type": "execute_result",
          "data": {
            "text/plain": [
              "array([5, 0, 4, ..., 5, 6, 8], dtype=uint8)"
            ]
          },
          "metadata": {
            "tags": []
          },
          "execution_count": 6
        }
      ]
    },
    {
      "cell_type": "code",
      "metadata": {
        "colab": {
          "base_uri": "https://localhost:8080/",
          "height": 223
        },
        "id": "W1e03OR8HC4i",
        "outputId": "f311e231-c476-40a2-ae0c-a6e38819a9af"
      },
      "source": [
        "\n",
        "labels = [0,1,2,3,4,5,6,7,8,9]\n",
        "\n",
        "for i, label in enumerate(labels):\n",
        "    plt.subplot(2, 5, i+1)\n",
        "    plt.imshow(X_train[np.min(np.where(Y_train == i))], \n",
        "               cmap='gray', \n",
        "               interpolation='bilinear')\n",
        "    plt.title(label)\n",
        "    plt.axis('off')"
      ],
      "execution_count": null,
      "outputs": [
        {
          "output_type": "display_data",
          "data": {
            "image/png": "[encoded data removed]",
            "text/plain": [
              "<Figure size 432x288 with 10 Axes>"
            ]
          },
          "metadata": {
            "tags": [],
            "needs_background": "light"
          }
        }
      ]
    },
    {
      "cell_type": "markdown",
      "metadata": {
        "id": "PBryvPO5JSbM"
      },
      "source": [
        "# 2. Построение нейронной сети"
      ]
    },
    {
      "cell_type": "code",
      "metadata": {
        "colab": {
          "base_uri": "https://localhost:8080/"
        },
        "id": "PVn2fbYlHn2t",
        "outputId": "3ff1510f-8b2d-4f9a-97c7-4d0b4e561fc3"
      },
      "source": [
        "X_train = X_train.reshape(X_train.shape[0], 28, 28, 1)\n",
        "X_test = X_test.reshape(X_test.shape[0], 28, 28, 1)\n",
        "X_train = X_train.astype('float32')\n",
        "X_test = X_test.astype('float32')\n",
        "X_train /= 255\n",
        "X_test /= 255\n",
        "print(\"Training matrix shape\", X_train.shape)\n",
        "print(\"Testing matrix shape\", X_test.shape)\n",
        "input_shape = (28, 28, 1)"
      ],
      "execution_count": null,
      "outputs": [
        {
          "output_type": "stream",
          "text": [
            "Training matrix shape (60000, 28, 28, 1)\n",
            "Testing matrix shape (10000, 28, 28, 1)\n"
          ],
          "name": "stdout"
        }
      ]
    },
    {
      "cell_type": "code",
      "metadata": {
        "id": "2p8kcnFjHqE2"
      },
      "source": [
        "n_classes = 10\n",
        "\n",
        "Y_train = np_utils.to_categorical(Y_train, n_classes)\n",
        "Y_test = np_utils.to_categorical(Y_test, n_classes)"
      ],
      "execution_count": null,
      "outputs": []
    },
    {
      "cell_type": "code",
      "metadata": {
        "id": "vsR35l6-Hur_"
      },
      "source": [
        "model = Sequential()\n",
        "model.add(Conv2D(256, kernel_size=(3, 3),\n",
        "                 activation='relu',\n",
        "                 input_shape=input_shape))\n",
        "model.add(Conv2D(256, (3, 3), activation='relu'))\n",
        "model.add(MaxPooling2D(pool_size=(2, 2)))\n",
        "model.add(Dropout(0.2))\n",
        "model.add(Flatten())\n",
        "model.add(Dense(512, activation='relu'))\n",
        "model.add(Dropout(0.2))\n",
        "model.add(Dense(256, activation='relu'))\n",
        "model.add(Dropout(0.2))\n",
        "model.add(Dense(n_classes, activation='softmax'))"
      ],
      "execution_count": null,
      "outputs": []
    },
    {
      "cell_type": "markdown",
      "metadata": {
        "id": "5DI5RH1QJr69"
      },
      "source": [
        "# 3. Обучение и построение метрик ошибки"
      ]
    },
    {
      "cell_type": "code",
      "metadata": {
        "id": "pPcLbHjWJ0bA"
      },
      "source": [
        "model.compile(loss='categorical_crossentropy', \n",
        "              optimizer='adam',\n",
        "              metrics=['accuracy'])"
      ],
      "execution_count": null,
      "outputs": []
    },
    {
      "cell_type": "code",
      "metadata": {
        "id": "UP83r0V9JtdL"
      },
      "source": [
        "def root_mean_squared_error(y_true, y_pred):\n",
        "        return K.sqrt(K.mean(K.square(y_pred - y_true))) "
      ],
      "execution_count": null,
      "outputs": []
    },
    {
      "cell_type": "code",
      "metadata": {
        "id": "NEIQ_pBYIaky"
      },
      "source": [
        "model.compile(optimizer = \"rmsprop\", loss = root_mean_squared_error, \n",
        "              metrics =[\"accuracy\"])"
      ],
      "execution_count": null,
      "outputs": []
    },
    {
      "cell_type": "code",
      "metadata": {
        "id": "EsO7kjyDJ-41"
      },
      "source": [
        "early_stopping_monitor = EarlyStopping(patience=3)"
      ],
      "execution_count": null,
      "outputs": []
    },
    {
      "cell_type": "code",
      "metadata": {
        "colab": {
          "base_uri": "https://localhost:8080/"
        },
        "id": "-f_WgTCkKAmp",
        "outputId": "31e99a40-f54c-4059-f0fb-9e48115ea3df"
      },
      "source": [
        "model_train = model.fit(X_train, Y_train,\n",
        "                        batch_size=128, \n",
        "                        epochs=3,\n",
        "                        callbacks=[early_stopping_monitor],\n",
        "                        validation_data=(X_test, Y_test))"
      ],
      "execution_count": null,
      "outputs": [
        {
          "output_type": "stream",
          "text": [
            "Epoch 1/3\n",
            "469/469 [==============================] - 50s 92ms/step - loss: 0.2999 - accuracy: 0.9008 - val_loss: 0.0344 - val_accuracy: 0.9884\n",
            "Epoch 2/3\n",
            "469/469 [==============================] - 42s 90ms/step - loss: 0.0430 - accuracy: 0.9866 - val_loss: 0.0298 - val_accuracy: 0.9906\n",
            "Epoch 3/3\n",
            "469/469 [==============================] - 42s 90ms/step - loss: 0.0261 - accuracy: 0.9916 - val_loss: 0.0421 - val_accuracy: 0.9875\n"
          ],
          "name": "stdout"
        }
      ]
    },
    {
      "cell_type": "code",
      "metadata": {
        "colab": {
          "base_uri": "https://localhost:8080/"
        },
        "id": "H0hw0vgEMxvJ",
        "outputId": "e49c98e0-0bd3-4cf3-b92d-644028315ca8"
      },
      "source": [
        "model_train.history"
      ],
      "execution_count": null,
      "outputs": [
        {
          "output_type": "execute_result",
          "data": {
            "text/plain": [
              "{'accuracy': [0.9578166604042053, 0.9864333271980286, 0.9917166829109192],\n",
              " 'loss': [0.13365347683429718, 0.042712002992630005, 0.02593539096415043],\n",
              " 'val_accuracy': [0.9883999824523926, 0.9905999898910522, 0.987500011920929],\n",
              " 'val_loss': [0.034369904547929764, 0.02982674166560173, 0.04208217188715935]}"
            ]
          },
          "metadata": {
            "tags": []
          },
          "execution_count": 19
        }
      ]
    },
    {
      "cell_type": "code",
      "metadata": {
        "colab": {
          "base_uri": "https://localhost:8080/",
          "height": 607
        },
        "id": "-V2UIH9jLZtE",
        "outputId": "a108196c-115a-46ab-b654-1a4da5a57c22"
      },
      "source": [
        "plt.figure(figsize=(20, 10))\n",
        "plt.subplot(1, 2, 1)\n",
        "plt.plot(model_train.history['accuracy'], label='train')\n",
        "plt.plot(model_train.history['val_accuracy'], label='test')\n",
        "plt.title('Accuracy')\n",
        "plt.legend(loc='center right')\n",
        "plt.ylim(0.9, )\n",
        "\n",
        "plt.subplot(1, 2, 2)\n",
        "plt.plot(model_train.history['loss'], label='train')\n",
        "plt.plot(model_train.history['val_loss'], label='test')\n",
        "plt.title('Loss')\n",
        "plt.legend(loc='center right');"
      ],
      "execution_count": null,
      "outputs": [
        {
          "output_type": "display_data",
          "data": {
            "image/png": "[encoded data removed]",
            "text/plain": [
              "<Figure size 1440x720 with 2 Axes>"
            ]
          },
          "metadata": {
            "tags": [],
            "needs_background": "light"
          }
        }
      ]
    },
    {
      "cell_type": "code",
      "metadata": {
        "colab": {
          "base_uri": "https://localhost:8080/"
        },
        "id": "B3WPtqBxKlsP",
        "outputId": "02342a92-19f6-4534-c48b-f868dafb20be"
      },
      "source": [
        "score = model.evaluate(X_test, Y_test, verbose=0)\n",
        "print('Test score:', score[0])\n",
        "print('Test accuracy:', score[1])"
      ],
      "execution_count": null,
      "outputs": [
        {
          "output_type": "stream",
          "text": [
            "Test score: 0.042082175612449646\n",
            "Test accuracy: 0.987500011920929\n"
          ],
          "name": "stdout"
        }
      ]
    },
    {
      "cell_type": "code",
      "metadata": {
        "colab": {
          "base_uri": "https://localhost:8080/"
        },
        "id": "KWOv2tsdKjfZ",
        "outputId": "77a9c09e-76a5-466e-abb0-3ff9929e0c23"
      },
      "source": [
        "Y_pred = model.predict_classes(X_test, verbose=0)"
      ],
      "execution_count": null,
      "outputs": [
        {
          "output_type": "stream",
          "text": [
            "/usr/local/lib/python3.6/dist-packages/tensorflow/python/keras/engine/sequential.py:450: UserWarning: `model.predict_classes()` is deprecated and will be removed after 2021-01-01. Please use instead:* `np.argmax(model.predict(x), axis=-1)`,   if your model does multi-class classification   (e.g. if it uses a `softmax` last-layer activation).* `(model.predict(x) > 0.5).astype(\"int32\")`,   if your model does binary classification   (e.g. if it uses a `sigmoid` last-layer activation).\n",
            "  warnings.warn('`model.predict_classes()` is deprecated and '\n"
          ],
          "name": "stderr"
        }
      ]
    },
    {
      "cell_type": "code",
      "metadata": {
        "id": "KsEt-dACNyn5"
      },
      "source": [
        "testing_labels = []\n",
        "for lbl in Y_test:\n",
        "  for i, val in enumerate(lbl):\n",
        "    if val == 1:\n",
        "      testing_labels.append(i)"
      ],
      "execution_count": null,
      "outputs": []
    },
    {
      "cell_type": "code",
      "metadata": {
        "colab": {
          "base_uri": "https://localhost:8080/",
          "height": 712
        },
        "id": "iBMoDJYMKJJ9",
        "outputId": "82ede6d4-6fca-4b6e-abe5-74b971aa3634"
      },
      "source": [
        "def check_error(Y_pred, Y_test):\n",
        "  sum = 0.0\n",
        "  max_deviation = 0\n",
        "  min_deviation = 10**10\n",
        "\n",
        "  for i, elem in enumerate(Y_test):\n",
        "    sum += math.fabs(Y_pred[i]-elem)\n",
        "    if math.fabs(Y_pred[i]-elem) > max_deviation:\n",
        "      max_deviation = math.fabs(Y_pred[i]-elem)\n",
        "    if math.fabs(Y_pred[i] - elem) < min_deviation:\n",
        "      min_deviation = math.fabs(Y_pred[i]-elem)\n",
        "\n",
        "  print(\"Max_deviation: \", max_deviation)\n",
        "  print(\"Min_deviation: \", min_deviation)\n",
        "  print(\"Arithmetic_mean: \", sum/len(Y_pred))\n",
        "  print(\"MAE: \", mean_absolute_error(Y_test, Y_pred))\n",
        "  print(\"RMSE: \", mean_squared_error(Y_test, Y_pred))\n",
        "  print(\"R^2: \", r2_score(Y_test, Y_pred))\n",
        "  plt.figure(figsize=(10, 10))\n",
        "  plt.scatter(Y_test, Y_pred)\n",
        "  plt.plot([0, max(Y_test)], [0, max(Y_pred)])\n",
        "  plt.xlabel('Actual', fontsize=14)\n",
        "  plt.ylabel('Prediction', fontsize=14)\n",
        "\n",
        "check_error(Y_pred, testing_labels)"
      ],
      "execution_count": null,
      "outputs": [
        {
          "output_type": "stream",
          "text": [
            "Max_deviation:  9.0\n",
            "Min_deviation:  0.0\n",
            "Arithmetic_mean:  0.0461\n",
            "MAE:  0.0461\n",
            "RMSE:  0.2247\n",
            "R^2:  0.9732027744838379\n"
          ],
          "name": "stdout"
        },
        {
          "output_type": "display_data",
          "data": {
            "image/png": "[encoded data removed]",
            "text/plain": [
              "<Figure size 720x720 with 1 Axes>"
            ]
          },
          "metadata": {
            "tags": [],
            "needs_background": "light"
          }
        }
      ]
    }
  ]
}